{
 "cells": [
  {
   "cell_type": "code",
   "execution_count": 1,
   "metadata": {},
   "outputs": [
    {
     "data": {
      "text/plain": [
       "'1.4.0'"
      ]
     },
     "execution_count": 1,
     "metadata": {},
     "output_type": "execute_result"
    }
   ],
   "source": [
    "from __future__ import print_function\n",
    "import torch as t\n",
    "t.__version__"
   ]
  },
  {
   "cell_type": "code",
   "execution_count": 2,
   "metadata": {},
   "outputs": [
    {
     "data": {
      "text/plain": [
       "tensor([[0., 0., 0.],\n",
       "        [0., 0., 0.],\n",
       "        [0., 0., 0.],\n",
       "        [0., 0., 0.],\n",
       "        [0., 0., 0.]])"
      ]
     },
     "execution_count": 2,
     "metadata": {},
     "output_type": "execute_result"
    }
   ],
   "source": [
    "# 构建 5x3 矩阵，只是分配了空间，未初始化\n",
    "x = t.Tensor(5, 3)\n",
    "x"
   ]
  },
  {
   "cell_type": "code",
   "execution_count": 3,
   "metadata": {},
   "outputs": [
    {
     "data": {
      "text/plain": [
       "tensor([[1., 2.],\n",
       "        [3., 4.]])"
      ]
     },
     "execution_count": 3,
     "metadata": {},
     "output_type": "execute_result"
    }
   ],
   "source": [
    "x = t.Tensor([[1,2],[3,4]])\n",
    "x"
   ]
  },
  {
   "cell_type": "code",
   "execution_count": 12,
   "metadata": {},
   "outputs": [
    {
     "data": {
      "text/plain": [
       "tensor([[0.6158, 0.1430, 0.6092],\n",
       "        [0.2704, 0.7582, 0.8619],\n",
       "        [0.7209, 0.7321, 0.2898],\n",
       "        [0.9968, 0.9130, 0.7251],\n",
       "        [0.7942, 0.8262, 0.2774]])"
      ]
     },
     "execution_count": 12,
     "metadata": {},
     "output_type": "execute_result"
    }
   ],
   "source": [
    "# 使用[0,1]均匀分布随机初始化二维数组\n",
    "x = t.rand(5, 3)  \n",
    "x"
   ]
  },
  {
   "cell_type": "code",
   "execution_count": 13,
   "metadata": {},
   "outputs": [
    {
     "name": "stdout",
     "output_type": "stream",
     "text": [
      "torch.Size([5, 3])\n",
      "3 3\n"
     ]
    }
   ],
   "source": [
    "print(x.size()) # 查看x的形状\n",
    "print(x.size()[1], x.size(1)) # 查看列的个数, 两种写法等价"
   ]
  },
  {
   "cell_type": "code",
   "execution_count": 14,
   "metadata": {},
   "outputs": [
    {
     "data": {
      "text/plain": [
       "tensor([[1.3379, 1.1153, 0.9245],\n",
       "        [0.7392, 1.4235, 1.1005],\n",
       "        [1.1109, 1.1537, 0.4137],\n",
       "        [1.9119, 1.8768, 1.0401],\n",
       "        [0.9121, 1.1608, 0.6857]])"
      ]
     },
     "execution_count": 14,
     "metadata": {},
     "output_type": "execute_result"
    }
   ],
   "source": [
    "y = t.rand(5, 3)\n",
    "# 加法的第一种写法\n",
    "x + y"
   ]
  },
  {
   "cell_type": "code",
   "execution_count": 17,
   "metadata": {},
   "outputs": [
    {
     "data": {
      "text/plain": [
       "tensor([[1.3379, 1.1153, 0.9245],\n",
       "        [0.7392, 1.4235, 1.1005],\n",
       "        [1.1109, 1.1537, 0.4137],\n",
       "        [1.9119, 1.8768, 1.0401],\n",
       "        [0.9121, 1.1608, 0.6857]])"
      ]
     },
     "execution_count": 17,
     "metadata": {},
     "output_type": "execute_result"
    }
   ],
   "source": [
    "# 加法的第二种写法\n",
    "t.add(x, y)"
   ]
  },
  {
   "cell_type": "code",
   "execution_count": 18,
   "metadata": {},
   "outputs": [
    {
     "data": {
      "text/plain": [
       "tensor([[1.3379, 1.1153, 0.9245],\n",
       "        [0.7392, 1.4235, 1.1005],\n",
       "        [1.1109, 1.1537, 0.4137],\n",
       "        [1.9119, 1.8768, 1.0401],\n",
       "        [0.9121, 1.1608, 0.6857]])"
      ]
     },
     "execution_count": 18,
     "metadata": {},
     "output_type": "execute_result"
    }
   ],
   "source": [
    "# 加法的第三种写法：指定加法结果的输出目标为result\n",
    "result = t.Tensor(5, 3) # 预先分配空间\n",
    "t.add(x, y, out=result) # 输入到result\n",
    "result"
   ]
  },
  {
   "cell_type": "code",
   "execution_count": 24,
   "metadata": {},
   "outputs": [
    {
     "name": "stdout",
     "output_type": "stream",
     "text": [
      "最初y\n",
      "tensor([[3.1853, 1.5442, 2.7522],\n",
      "        [1.5503, 3.6982, 3.6861],\n",
      "        [3.2736, 3.3499, 1.2831],\n",
      "        [4.9024, 4.6158, 3.2153],\n",
      "        [3.2948, 3.6393, 1.5178]])\n",
      "第一种加法，y的结果\n",
      "tensor([[3.8012, 1.6872, 3.3614],\n",
      "        [1.8207, 4.4565, 4.5480],\n",
      "        [3.9944, 4.0819, 1.5729],\n",
      "        [5.8992, 5.5288, 3.9404],\n",
      "        [4.0891, 4.4655, 1.7952]])\n",
      "tensor([[3.1853, 1.5442, 2.7522],\n",
      "        [1.5503, 3.6982, 3.6861],\n",
      "        [3.2736, 3.3499, 1.2831],\n",
      "        [4.9024, 4.6158, 3.2153],\n",
      "        [3.2948, 3.6393, 1.5178]])\n",
      "第二种加法，y的结果\n",
      "tensor([[3.8012, 1.6872, 3.3614],\n",
      "        [1.8207, 4.4565, 4.5480],\n",
      "        [3.9944, 4.0819, 1.5729],\n",
      "        [5.8992, 5.5288, 3.9404],\n",
      "        [4.0891, 4.4655, 1.7952]])\n"
     ]
    }
   ],
   "source": [
    "print('最初y')\n",
    "print(y)\n",
    "\n",
    "print('第一种加法，y的结果')\n",
    "y.add(x) # 普通加法，不改变y的内容\n",
    "c = y.add(x)\n",
    "print(y)\n",
    "print(c)\n",
    "\n",
    "print('第二种加法，y的结果')\n",
    "y.add_(x) # inplace 加法，y变了\n",
    "print(y)"
   ]
  },
  {
   "cell_type": "code",
   "execution_count": 20,
   "metadata": {},
   "outputs": [
    {
     "data": {
      "text/plain": [
       "tensor([[1.9537, 1.2582, 1.5337],\n",
       "        [1.0096, 2.1818, 1.9624],\n",
       "        [1.8318, 1.8857, 0.7035],\n",
       "        [2.9087, 2.7898, 1.7652],\n",
       "        [1.7064, 1.9870, 0.9631]])"
      ]
     },
     "execution_count": 20,
     "metadata": {},
     "output_type": "execute_result"
    }
   ],
   "source": [
    "c = y.add(x)\n",
    "c"
   ]
  },
  {
   "cell_type": "code",
   "execution_count": null,
   "metadata": {},
   "outputs": [],
   "source": []
  }
 ],
 "metadata": {
  "kernelspec": {
   "display_name": "Python 3",
   "language": "python",
   "name": "python3"
  },
  "language_info": {
   "codemirror_mode": {
    "name": "ipython",
    "version": 3
   },
   "file_extension": ".py",
   "mimetype": "text/x-python",
   "name": "python",
   "nbconvert_exporter": "python",
   "pygments_lexer": "ipython3",
   "version": "3.7.6"
  }
 },
 "nbformat": 4,
 "nbformat_minor": 2
}
